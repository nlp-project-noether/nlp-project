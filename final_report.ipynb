{
 "cells": [
  {
   "cell_type": "markdown",
   "id": "96391af6",
   "metadata": {},
   "source": [
    " # Hacktober NLP Project"
   ]
  },
  {
   "cell_type": "markdown",
   "id": "85665c8c",
   "metadata": {},
   "source": [
    "## Goals:\n",
    "  - Identify the best predictors for programming language\n",
    "  - Build models to best predict the language used"
   ]
  },
  {
   "cell_type": "markdown",
   "id": "911c3046",
   "metadata": {},
   "source": [
    "## Plan of Action:\n",
    "  - Acquire\n",
    "  - Prepare\n",
    "  - Explore\n",
    "  - Model\n",
    "  - Conclusions\n",
    "  "
   ]
  },
  {
   "cell_type": "markdown",
   "id": "7c4c09ab",
   "metadata": {},
   "source": [
    "## Data Dictionary\n",
    "\n",
    "| Target Variable | Definition |\n",
    "| ----- | ----- |\n",
    "| language | The main programming language used|\n",
    "\n",
    "| Feature | Definition | Data Type |\n",
    "| ----- | ----- | ----- |\n",
    "| repo | The repository obtained from Github| `object` |\n",
    "| language| The main programming language used | `object` |\n",
    "| readme_content | The contents included in the ReadMe file | `object` |\n",
    "| lem | Readme contents that have been lemmatized | `object` |"
   ]
  },
  {
   "cell_type": "code",
   "execution_count": 1,
   "id": "1c5988ee",
   "metadata": {},
   "outputs": [],
   "source": [
    "import pandas as pd\n",
    "import numpy as np\n",
    "import time\n",
    "import os\n",
    "from typing import Dict, List, Optional, Union, cast\n",
    "from bs4 import BeautifulSoup\n",
    "import requests\n",
    "from sklearn.linear_model import LogisticRegression\n",
    "from sklearn.neighbors import KNeighborsClassifier\n",
    "from sklearn.metrics import classification_report, accuracy_score"
   ]
  },
  {
   "cell_type": "markdown",
   "id": "5c313b9f",
   "metadata": {},
   "source": [
    "## Acquire:\n",
    "   - Web scrape data from Github\n",
    "   - Download it as a json file"
   ]
  },
  {
   "cell_type": "code",
   "execution_count": null,
   "id": "528b1d29",
   "metadata": {},
   "outputs": [],
   "source": []
  },
  {
   "cell_type": "code",
   "execution_count": null,
   "id": "94fce292",
   "metadata": {},
   "outputs": [],
   "source": []
  },
  {
   "cell_type": "markdown",
   "id": "794cab6b",
   "metadata": {},
   "source": [
    "## Prepare:\n",
    "  - Use regex to clean our readme contents\n",
    "  - Lemmatize the readme contents\n",
    "  - Replace null values with the correct programming language\n",
    "  - Split data into Train, Validate, Test"
   ]
  },
  {
   "cell_type": "code",
   "execution_count": null,
   "id": "49fdef6b",
   "metadata": {},
   "outputs": [],
   "source": []
  },
  {
   "cell_type": "code",
   "execution_count": null,
   "id": "1ca22b55",
   "metadata": {},
   "outputs": [],
   "source": []
  },
  {
   "cell_type": "markdown",
   "id": "2a97f97c",
   "metadata": {},
   "source": [
    "## Modeling\n",
    "  - Used the found predic"
   ]
  }
 ],
 "metadata": {
  "kernelspec": {
   "display_name": "Python 3 (ipykernel)",
   "language": "python",
   "name": "python3"
  },
  "language_info": {
   "codemirror_mode": {
    "name": "ipython",
    "version": 3
   },
   "file_extension": ".py",
   "mimetype": "text/x-python",
   "name": "python",
   "nbconvert_exporter": "python",
   "pygments_lexer": "ipython3",
   "version": "3.9.13"
  }
 },
 "nbformat": 4,
 "nbformat_minor": 5
}
