{
 "cells": [
  {
   "cell_type": "markdown",
   "id": "6b6c55a4",
   "metadata": {},
   "source": [
    " # Hacktober NLP Project"
   ]
  },
  {
   "cell_type": "markdown",
   "id": "d31a3de0",
   "metadata": {},
   "source": [
    "## Goals:\n",
    "  - Identify the best predictors for programming language\n",
    "  - Build models to best predict the language used"
   ]
  },
  {
   "cell_type": "markdown",
   "id": "ce6d398a",
   "metadata": {},
   "source": [
    "## Plan of Action:\n",
    "  - Acquire\n",
    "  - Prepare\n",
    "  - Explore\n",
    "  - Model\n",
    "  - Conclusions\n",
    "  "
   ]
  },
  {
   "cell_type": "markdown",
   "id": "3ad80a17",
   "metadata": {},
   "source": [
    "## Data Dictionary\n",
    "\n",
    "| Target Variable | Definition |\n",
    "| ----- | ----- |\n",
    "| language | The main programming language used|\n",
    "\n",
    "| Feature | Definition | Data Type |\n",
    "| ----- | ----- | ----- |\n",
    "| repo | The repository obtained from Github| `object` |\n",
    "| language| The main programming language used | `object` |\n",
    "| readme_content | The contents included in the ReadMe file | `object` |\n",
    "| lem | Readme contents that have been lemmatized | `object` |"
   ]
  },
  {
   "cell_type": "code",
   "execution_count": 1,
   "id": "512cb518",
   "metadata": {},
   "outputs": [],
   "source": [
    "import pandas as pd\n",
    "import numpy as np\n",
    "import time\n",
    "import os\n",
    "from typing import Dict, List, Optional, Union, cast\n",
    "from bs4 import BeautifulSoup\n",
    "import requests\n",
    "from sklearn.linear_model import LogisticRegression\n",
    "from sklearn.neighbors import KNeighborsClassifier\n",
    "from sklearn.metrics import classification_report, accuracy_score"
   ]
  },
  {
   "cell_type": "markdown",
   "id": "2771ef66",
   "metadata": {},
   "source": [
    "## Acquire:\n",
    "   - Web scrape data from Github\n",
    "   - Download it as a json file"
   ]
  },
  {
   "cell_type": "code",
   "execution_count": null,
   "id": "7758639c",
   "metadata": {},
   "outputs": [],
   "source": []
  },
  {
   "cell_type": "code",
   "execution_count": null,
   "id": "3daeb81b",
   "metadata": {},
   "outputs": [],
   "source": []
  },
  {
   "cell_type": "markdown",
   "id": "4efe4c07",
   "metadata": {},
   "source": [
    "## Prepare:\n",
    "  - Use regex to clean our readme contents\n",
    "  - Lemmatize the readme contents\n",
    "  - Replace null values with the correct programming language\n",
    "  - Split data into Train, Validate, Test"
   ]
  },
  {
   "cell_type": "code",
   "execution_count": null,
   "id": "66130ca0",
   "metadata": {},
   "outputs": [],
   "source": []
  },
  {
   "cell_type": "code",
   "execution_count": null,
   "id": "5fe03c2a",
   "metadata": {},
   "outputs": [],
   "source": []
  },
  {
   "cell_type": "markdown",
   "id": "f3007d98",
   "metadata": {},
   "source": [
    "## Modeling\n",
    "  - Used the found predictors from explore to make models\n",
    "  - The best model was [Insert Model]"
   ]
  },
  {
   "cell_type": "code",
   "execution_count": null,
   "id": "a490e67f",
   "metadata": {},
   "outputs": [],
   "source": []
  },
  {
   "cell_type": "code",
   "execution_count": null,
   "id": "76f53fd7",
   "metadata": {},
   "outputs": [],
   "source": []
  },
  {
   "cell_type": "markdown",
   "id": "959d8e48",
   "metadata": {},
   "source": [
    "## Conclusion:\n",
    "   - The"
   ]
  },
  {
   "cell_type": "code",
   "execution_count": null,
   "id": "bd58d760",
   "metadata": {},
   "outputs": [],
   "source": []
  }
 ],
 "metadata": {
  "kernelspec": {
   "display_name": "Python 3 (ipykernel)",
   "language": "python",
   "name": "python3"
  },
  "language_info": {
   "codemirror_mode": {
    "name": "ipython",
    "version": 3
   },
   "file_extension": ".py",
   "mimetype": "text/x-python",
   "name": "python",
   "nbconvert_exporter": "python",
   "pygments_lexer": "ipython3",
   "version": "3.9.13"
  }
 },
 "nbformat": 4,
 "nbformat_minor": 5
}
